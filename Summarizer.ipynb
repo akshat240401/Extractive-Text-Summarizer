{
  "cells": [
    {
      "cell_type": "code",
      "execution_count": 110,
      "metadata": {
        "colab": {
          "base_uri": "https://localhost:8080/"
        },
        "id": "Y5U85K7mrmgr",
        "outputId": "e0b09076-46d2-40a2-e050-5593353223dd"
      },
      "outputs": [
        {
          "name": "stderr",
          "output_type": "stream",
          "text": [
            "[nltk_data] Downloading package punkt to /root/nltk_data...\n",
            "[nltk_data]   Package punkt is already up-to-date!\n"
          ]
        },
        {
          "data": {
            "text/plain": [
              "True"
            ]
          },
          "execution_count": 110,
          "metadata": {},
          "output_type": "execute_result"
        }
      ],
      "source": [
        "import spacy\n",
        "import nltk\n",
        "nltk.download ('punkt')"
      ]
    },
    {
      "cell_type": "code",
      "execution_count": 111,
      "metadata": {
        "id": "1YXkHn5RroKf"
      },
      "outputs": [],
      "source": [
        "from spacy.lang.en.stop_words import STOP_WORDS"
      ]
    },
    {
      "cell_type": "code",
      "execution_count": 112,
      "metadata": {
        "id": "jqCgENHwyIDD"
      },
      "outputs": [],
      "source": [
        "from heapq import nlargest"
      ]
    },
    {
      "cell_type": "code",
      "execution_count": 113,
      "metadata": {
        "id": "rezGbQDEzsVd"
      },
      "outputs": [],
      "source": [
        "from spacy.lang.hi import STOP_WORDS as STOP_WORDS_HI"
      ]
    },
    {
      "cell_type": "code",
      "execution_count": 114,
      "metadata": {
        "id": "T-8KRnETrysy"
      },
      "outputs": [],
      "source": [
        "from string import punctuation"
      ]
    },
    {
      "cell_type": "code",
      "execution_count": 115,
      "metadata": {
        "id": "QRMjGU2Or4bH"
      },
      "outputs": [],
      "source": [
        "text = \"\"\"A week ago a friend invited a couple of other couples over for dinner. Eventually, the food (but not the wine) was cleared off the table for what turned out to be some fierce Scrabbling. Heeding the strategy of going for the shorter, more valuable word over the longer cheaper word, our final play was “Bon,” which–as luck would have it!–happens to be a Japanese Buddhist festival, and not, as I had originally asserted while laying the tiles on the board, one half of a chocolate-covered cherry treat. Anyway, the strategy worked. My team only lost by 53 points instead of 58.\n",
        "\n",
        "Just the day before, our host had written of the challenges of writing short. In journalism–my friend’s chosen trade, and mostly my own, too–Mark Twain’s observation undoubtedly applies: “I didn’t have time to write a short letter, so I wrote a long one instead.” The principle holds across genres, in letters, reporting, and other writing. It’s harder to be concise than to blather. (Full disclosure, this blog post will clock in at a blather-esque 803 words.) Good writing is boiled down, not baked full of air like a souffl??. No matter how yummy souffl??s may be. Which they are. Yummy like a Grisham novel.\n",
        "\n",
        "Lately, I’ve been noticing how my sentences have a tendency to keep going when I write them onscreen. This goes for concentrated writing as well as correspondence. (Twain probably believed that correspondence, in an ideal world, also demands concentration. But he never used email.) Last week I caught myself packing four conjunctions into a three-line sentence in an email. That’s inexcusable. Since then, I have tried to eschew conjunctions whenever possible. Gone are the commas, the and’s, but’s, and so’s; in are staccato declaratives. Better to read like bad Hemingway than bad Faulkner.\"\"\""
      ]
    },
    {
      "cell_type": "code",
      "execution_count": 116,
      "metadata": {
        "id": "fFo5_9UdsabR"
      },
      "outputs": [],
      "source": [
        "stopwords = list(STOP_WORDS)"
      ]
    },
    {
      "cell_type": "code",
      "execution_count": 117,
      "metadata": {
        "id": "ZAjRkDSLsjVG"
      },
      "outputs": [],
      "source": [
        "nlp = spacy.load('en_core_web_sm')"
      ]
    },
    {
      "cell_type": "code",
      "execution_count": 118,
      "metadata": {
        "id": "C3t9tQFQte66"
      },
      "outputs": [],
      "source": [
        "doc = nlp(text)"
      ]
    },
    {
      "cell_type": "code",
      "execution_count": 119,
      "metadata": {
        "id": "n89R1dz7tlzJ"
      },
      "outputs": [],
      "source": [
        "tokens = [token.text for token in doc]"
      ]
    },
    {
      "cell_type": "code",
      "execution_count": 120,
      "metadata": {
        "id": "zG2f1JPWuVkW"
      },
      "outputs": [],
      "source": [
        "word_freq={}\n",
        "for word in doc:\n",
        "  if word.text.lower() not in stopwords and word.text.lower() not in punctuation:\n",
        "    if word.text not in word_freq.keys():\n",
        "      word_freq[word.text]=1\n",
        "    else:\n",
        "      word_freq[word.text]+=1"
      ]
    },
    {
      "cell_type": "code",
      "execution_count": 121,
      "metadata": {
        "id": "UqGc6YTQvNWH"
      },
      "outputs": [],
      "source": [
        "max_freq = max(word_freq.values())"
      ]
    },
    {
      "cell_type": "code",
      "execution_count": 122,
      "metadata": {
        "id": "rDT4Jl-Uvi_4"
      },
      "outputs": [],
      "source": [
        "for word in word_freq.keys():\n",
        "  word_freq[word] = word_freq[word]/max_freq"
      ]
    },
    {
      "cell_type": "code",
      "execution_count": 123,
      "metadata": {
        "id": "_B9FhkbQwN3w"
      },
      "outputs": [],
      "source": [
        "sent_tokens = [sent for sent in doc.sents]"
      ]
    },
    {
      "cell_type": "code",
      "execution_count": 124,
      "metadata": {
        "id": "H5NOpAJywcks"
      },
      "outputs": [],
      "source": [
        "sent_scores={}\n",
        "for sent in sent_tokens:\n",
        "  for word in sent:\n",
        "    if word.text in word_freq.keys():\n",
        "      if sent not in sent_scores.keys():\n",
        "        sent_scores[sent] = word_freq[word.text]\n",
        "      else:\n",
        "        sent_scores[sent] += word_freq[word.text]"
      ]
    },
    {
      "cell_type": "code",
      "execution_count": 125,
      "metadata": {
        "id": "ItFy7Oqmxm2r"
      },
      "outputs": [],
      "source": [
        "select_len = int(len(sent_tokens)*0.3)"
      ]
    },
    {
      "cell_type": "code",
      "execution_count": 126,
      "metadata": {
        "id": "a26q3Sdtx31G"
      },
      "outputs": [],
      "source": [
        "summary = nlargest(select_len, sent_scores, key=sent_scores.get)"
      ]
    },
    {
      "cell_type": "code",
      "execution_count": 127,
      "metadata": {
        "id": "GiyfKGcKyfN4"
      },
      "outputs": [],
      "source": [
        "final_summary = [word.text for word in summary]\n",
        "summary = ' '.join(final_summary)"
      ]
    },
    {
      "cell_type": "code",
      "execution_count": 128,
      "metadata": {
        "colab": {
          "base_uri": "https://localhost:8080/"
        },
        "id": "5c1DHTYly-6_",
        "outputId": "e7ab843f-b2d5-424a-87e7-0ee2603faa99"
      },
      "outputs": [
        {
          "name": "stdout",
          "output_type": "stream",
          "text": [
            "A week ago a friend invited a couple of other couples over for dinner. Eventually, the food (but not the wine) was cleared off the table for what turned out to be some fierce Scrabbling. Heeding the strategy of going for the shorter, more valuable word over the longer cheaper word, our final play was “Bon,” which–as luck would have it!–happens to be a Japanese Buddhist festival, and not, as I had originally asserted while laying the tiles on the board, one half of a chocolate-covered cherry treat. Anyway, the strategy worked. My team only lost by 53 points instead of 58.\n",
            "\n",
            "Just the day before, our host had written of the challenges of writing short. In journalism–my friend’s chosen trade, and mostly my own, too–Mark Twain’s observation undoubtedly applies: “I didn’t have time to write a short letter, so I wrote a long one instead.” The principle holds across genres, in letters, reporting, and other writing. It’s harder to be concise than to blather. (Full disclosure, this blog post will clock in at a blather-esque 803 words.) Good writing is boiled down, not baked full of air like a souffl??. No matter how yummy souffl??s may be. Which they are. Yummy like a Grisham novel.\n",
            "\n",
            "Lately, I’ve been noticing how my sentences have a tendency to keep going when I write them onscreen. This goes for concentrated writing as well as correspondence. (Twain probably believed that correspondence, in an ideal world, also demands concentration. But he never used email.) Last week I caught myself packing four conjunctions into a three-line sentence in an email. That’s inexcusable. Since then, I have tried to eschew conjunctions whenever possible. Gone are the commas, the and’s, but’s, and so’s; in are staccato declaratives. Better to read like bad Hemingway than bad Faulkner.\n",
            "Heeding the strategy of going for the shorter, more valuable word over the longer cheaper word, our final play was “Bon,” which–as luck would have it!–happens to be a Japanese Buddhist festival, and not, as I had originally asserted while laying the tiles on the board, one half of a chocolate-covered cherry treat. In journalism–my friend’s chosen trade, and mostly my own, too–Mark Twain’s observation undoubtedly applies: “I didn’t have time to write a short letter, so I wrote a long one instead.” Good writing is boiled down, not baked full of air like a souffl??. Better to read like bad Hemingway than bad Faulkner. Just the day before, our host had written of the challenges of writing short. (Twain probably believed that correspondence, in an ideal world, also demands concentration.\n",
            "Length of Original Text 297\n",
            "Length of Summarized Text 131\n"
          ]
        }
      ],
      "source": [
        "print(text)\n",
        "print(summary)\n",
        "print(\"Length of Original Text\", len(text.split(' ')))\n",
        "print(\"Length of Summarized Text\", len(summary.split(' ')))"
      ]
    },
    {
      "cell_type": "code",
      "execution_count": 129,
      "metadata": {
        "id": "dUN_DPrO8vxU"
      },
      "outputs": [],
      "source": [
        "texthi = \"\"\"भारत–भूमि\n",
        "की महानता उसकी विशाल जनसंख्या अथवा भू–क्षेत्र के कारण नहीं, अपितु उसकी भव्य और अनुकरणीय उदार परम्पराओं के कारण रही है। आचार, विचार, चिन्तन, भाषा और वेशभूषा की विविधताओं को राष्ट्रीयता के सूत्र में पिरोकर भारत ने मानवीय एकता का आदर्श उपस्थित किया है।\n",
        "\n",
        "धर्म के तत्व–\n",
        "भारतीय मान्यता के अनुसार धैर्य, क्षमा, आत्मसंयम, चोरी न करना, पवित्र भावना, इन्द्रियों पर नियन्त्रण बुद्धिमत्ता, विद्या, सत्य और क्रोध न करना ये धर्म के दस लक्षण हैं।\n",
        "\n",
        "सभी धर्म इनको अपना आदर्श और अपना अंग मानते हैं। महाभारत में कहा गया है कि जो सब धर्मों को सम्मान नहीं देता, वह धर्म नहीं अधर्म है। मनुष्य को मनुष्य का गला काटने की दुष्प्रेरणा, दूसरों का घर जलाने की और नारियों के अपमान की कु–शिक्षा अधर्म है और ईश्वर का घोर अपमान है।\n",
        "\n",
        "\"\"\""
      ]
    },
    {
      "cell_type": "code",
      "execution_count": 130,
      "metadata": {
        "id": "3aJ-pWla8uQ5"
      },
      "outputs": [],
      "source": [
        "stopwordshi = list(STOP_WORDS_HI)"
      ]
    },
    {
      "cell_type": "code",
      "execution_count": 131,
      "metadata": {
        "id": "L71Gl0c08wtc"
      },
      "outputs": [],
      "source": [
        "dochi = nlp(texthi)"
      ]
    },
    {
      "cell_type": "code",
      "execution_count": 132,
      "metadata": {
        "id": "RGiPc4E59NnF"
      },
      "outputs": [],
      "source": [
        "tokenshi = [token.text for token in dochi]"
      ]
    },
    {
      "cell_type": "code",
      "execution_count": 133,
      "metadata": {
        "id": "2d4hT9Ok9hGT"
      },
      "outputs": [],
      "source": [
        "word_freqhi={}\n",
        "for word in dochi:\n",
        "  if word.text.lower() not in stopwordshi and word.text.lower() not in punctuation:\n",
        "    if word.text not in word_freqhi.keys():\n",
        "      word_freqhi[word.text]=1\n",
        "    else:\n",
        "      word_freqhi[word.text]+=1"
      ]
    },
    {
      "cell_type": "code",
      "execution_count": 134,
      "metadata": {
        "id": "tY357Ss8-M7Q"
      },
      "outputs": [],
      "source": [
        "max_freqhi = max(word_freqhi.values())"
      ]
    },
    {
      "cell_type": "code",
      "execution_count": 135,
      "metadata": {
        "id": "ddO5o_wT-Yc2"
      },
      "outputs": [],
      "source": [
        "for word in word_freqhi.keys():\n",
        "  word_freqhi[word] = word_freqhi[word]/max_freqhi"
      ]
    },
    {
      "cell_type": "code",
      "execution_count": 136,
      "metadata": {
        "id": "z3F-LLzo-cX2"
      },
      "outputs": [],
      "source": [
        "sent_tokenshi = [sent for sent in dochi.sents]"
      ]
    },
    {
      "cell_type": "code",
      "execution_count": 137,
      "metadata": {
        "id": "1uRw_SFz-kmn"
      },
      "outputs": [],
      "source": [
        "sent_scoreshi={}\n",
        "for sent in sent_tokenshi:\n",
        "  for word in sent:\n",
        "    if word.text in word_freqhi.keys():\n",
        "      if sent not in sent_scoreshi.keys():\n",
        "        sent_scoreshi[sent] = word_freqhi[word.text]\n",
        "      else:\n",
        "        sent_scoreshi[sent] += word_freqhi[word.text]"
      ]
    },
    {
      "cell_type": "code",
      "execution_count": 138,
      "metadata": {
        "id": "8o8zb9pF-v32"
      },
      "outputs": [],
      "source": [
        "select_lenhi = int(len(sent_tokenshi)*0.3)"
      ]
    },
    {
      "cell_type": "code",
      "execution_count": 139,
      "metadata": {
        "id": "Ukim--sx_Lsa"
      },
      "outputs": [],
      "source": [
        "summaryhi = nlargest(select_lenhi, sent_scoreshi, key=sent_scoreshi.get)"
      ]
    },
    {
      "cell_type": "code",
      "execution_count": 140,
      "metadata": {
        "id": "M4Lq3P0I_QqV"
      },
      "outputs": [],
      "source": [
        "final_summaryhi = [word.text for word in summaryhi]\n",
        "summaryhi = ' '.join(final_summaryhi)"
      ]
    },
    {
      "cell_type": "code",
      "execution_count": 141,
      "metadata": {
        "colab": {
          "base_uri": "https://localhost:8080/"
        },
        "id": "9f8ZM6Li_VoT",
        "outputId": "c2ccb1ff-5576-4333-b059-6eb08b08dbb1"
      },
      "outputs": [
        {
          "name": "stdout",
          "output_type": "stream",
          "text": [
            "भारत–भूमि\n",
            "की महानता उसकी विशाल जनसंख्या अथवा भू–क्षेत्र के कारण नहीं, अपितु उसकी भव्य और अनुकरणीय उदार परम्पराओं के कारण रही है। आचार, विचार, चिन्तन, भाषा और वेशभूषा की विविधताओं को राष्ट्रीयता के सूत्र में पिरोकर भारत ने मानवीय एकता का आदर्श उपस्थित किया है।\n",
            "\n",
            "धर्म के तत्व–\n",
            "भारतीय मान्यता के अनुसार धैर्य, क्षमा, आत्मसंयम, चोरी न करना, पवित्र भावना, इन्द्रियों पर नियन्त्रण बुद्धिमत्ता, विद्या, सत्य और क्रोध न करना ये धर्म के दस लक्षण हैं।\n",
            "\n",
            "सभी धर्म इनको अपना आदर्श और अपना अंग मानते हैं। महाभारत में कहा गया है कि जो सब धर्मों को सम्मान नहीं देता, वह धर्म नहीं अधर्म है। मनुष्य को मनुष्य का गला काटने की दुष्प्रेरणा, दूसरों का घर जलाने की और नारियों के अपमान की कु–शिक्षा अधर्म है और ईश्वर का घोर अपमान है।\n",
            "\n",
            "\n",
            "उपस्थित किया है।\n",
            "\n",
            "धर्म के तत्व–\n",
            "भारतीय मान्यता के अनुसार धैर्य, क्षमा, आत्मसंयम, चोरी न करना, पवित्र भावना, इन्द्रियों पर नियन्त्रण बुद्धिमत्ता, विद्या, सत्य और क्रोध भारत–भूमि\n",
            "की महानता उसकी विशाल जनसंख्या अथवा भू–क्षेत्र के कारण नहीं, अपितु उसकी भव्य और अनुकरणीय उदार परम्पराओं के कारण\n",
            "Length of Original Text 127\n",
            "Length of Summarized Text 43\n"
          ]
        }
      ],
      "source": [
        "print(texthi)\n",
        "print(summaryhi)\n",
        "print(\"Length of Original Text\", len(texthi.split(' ')))\n",
        "print(\"Length of Summarized Text\", len(summaryhi.split(' ')))"
      ]
    }
  ],
  "metadata": {
    "colab": {
      "collapsed_sections": [],
      "provenance": []
    },
    "kernelspec": {
      "display_name": "Python 3.9.1 64-bit",
      "language": "python",
      "name": "python3"
    },
    "language_info": {
      "name": "python",
      "version": "3.9.1"
    },
    "vscode": {
      "interpreter": {
        "hash": "87e9367727c8878d715d2f93c54dcfa4dcb50c2fda8ac36690037dc782688d2d"
      }
    }
  },
  "nbformat": 4,
  "nbformat_minor": 0
}
